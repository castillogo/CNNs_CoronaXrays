{
 "cells": [
  {
   "cell_type": "code",
   "execution_count": 2,
   "metadata": {},
   "outputs": [
    {
     "name": "stdout",
     "output_type": "stream",
     "text": [
      "Collecting sklearn\n",
      "  Downloading sklearn-0.0.tar.gz (1.1 kB)\n",
      "Collecting scikit-learn\n",
      "  Using cached scikit_learn-0.22.2.post1-cp37-cp37m-win_amd64.whl (6.5 MB)\n",
      "Requirement already satisfied: scipy>=0.17.0 in c:\\users\\casti\\appdata\\local\\continuum\\anaconda3\\envs\\tf_test\\lib\\site-packages (from scikit-learn->sklearn) (1.4.1)\n",
      "Requirement already satisfied: numpy>=1.11.0 in c:\\users\\casti\\appdata\\local\\continuum\\anaconda3\\envs\\tf_test\\lib\\site-packages (from scikit-learn->sklearn) (1.18.1)\n",
      "Collecting joblib>=0.11\n",
      "  Downloading joblib-0.14.1-py2.py3-none-any.whl (294 kB)\n",
      "Building wheels for collected packages: sklearn\n",
      "  Building wheel for sklearn (setup.py): started\n",
      "  Building wheel for sklearn (setup.py): finished with status 'done'\n",
      "  Created wheel for sklearn: filename=sklearn-0.0-py2.py3-none-any.whl size=1320 sha256=67a3f3aa2624e2af09ce0897d8cc3d561ff61cf80fa3c3d98a30aed21faf7ae7\n",
      "  Stored in directory: c:\\users\\casti\\appdata\\local\\pip\\cache\\wheels\\46\\ef\\c3\\157e41f5ee1372d1be90b09f74f82b10e391eaacca8f22d33e\n",
      "Successfully built sklearn\n",
      "Installing collected packages: joblib, scikit-learn, sklearn\n",
      "Successfully installed joblib-0.14.1 scikit-learn-0.22.2.post1 sklearn-0.0\n"
     ]
    }
   ],
   "source": [
    "!pip install sklearn"
   ]
  },
  {
   "cell_type": "code",
   "execution_count": 3,
   "metadata": {},
   "outputs": [],
   "source": [
    "from sklearn.datasets import make_moons\n",
    "\n",
    "X, y = make_moons(n_samples=50, noise=0.2, random_state=42)"
   ]
  },
  {
   "cell_type": "code",
   "execution_count": 4,
   "metadata": {},
   "outputs": [
    {
     "data": {
      "text/plain": [
       "((50, 2), (50,))"
      ]
     },
     "execution_count": 4,
     "metadata": {},
     "output_type": "execute_result"
    }
   ],
   "source": [
    "X.shape, y.shape"
   ]
  },
  {
   "cell_type": "code",
   "execution_count": 5,
   "metadata": {},
   "outputs": [],
   "source": [
    "import matplotlib.pyplot as plt"
   ]
  },
  {
   "cell_type": "code",
   "execution_count": 6,
   "metadata": {},
   "outputs": [
    {
     "data": {
      "text/plain": [
       "<matplotlib.collections.PathCollection at 0x1c3db91e988>"
      ]
     },
     "execution_count": 6,
     "metadata": {},
     "output_type": "execute_result"
    },
    {
     "data": {
      "image/png": "[encoded data removed]",
      "text/plain": [
       "<Figure size 432x288 with 1 Axes>"
      ]
     },
     "metadata": {
      "needs_background": "light"
     },
     "output_type": "display_data"
    }
   ],
   "source": [
    "plt.scatter(X[:,0], X[:,1], c=y)"
   ]
  },
  {
   "cell_type": "code",
   "execution_count": 7,
   "metadata": {},
   "outputs": [],
   "source": [
    "import numpy as np\n",
    "new_col = np.ones((X.shape[0], 1))\n",
    "X = np.hstack([X, new_col])"
   ]
  },
  {
   "cell_type": "code",
   "execution_count": 8,
   "metadata": {},
   "outputs": [],
   "source": [
    "def sigmoid(x):\n",
    "    \n",
    "    \"\"\"Input: NumPy array\n",
    "       Output: NumPy array\"\"\"\n",
    "    sig = 1 / (1 + np.exp(-x))\n",
    "    return sig\n",
    "    \n",
    "  "
   ]
  },
  {
   "cell_type": "code",
   "execution_count": 9,
   "metadata": {},
   "outputs": [],
   "source": [
    "a = np.array([-10.0, -1.0, 0.0, 1.0, 10.0])\n",
    "expected = np.array([0.0, 0.27, 0.5, 0.73, 1.0])\n",
    "assert np.all(sigmoid(a).round(2) == expected)"
   ]
  },
  {
   "cell_type": "markdown",
   "metadata": {},
   "source": [
    "---"
   ]
  },
  {
   "cell_type": "markdown",
   "metadata": {},
   "source": [
    "- In total, we have 9 weights / parameters.\n",
    "- In the first (hidden) layer, we have 6 weights.\n",
    "- In the last (outer) layer, we have 3 weights.\n",
    "- hidden weights: (3, 2)\n",
    "- outer weights: (3, 1)"
   ]
  },
  {
   "cell_type": "code",
   "execution_count": 10,
   "metadata": {},
   "outputs": [],
   "source": [
    "weights_hidden = np.random.uniform(low=0.0, high=1.0, size=(3,2)) #np.random.rand()\n",
    "weights_output = np.random.uniform(low=0.0, high=1.0, size=(3,1))"
   ]
  },
  {
   "cell_type": "code",
   "execution_count": 11,
   "metadata": {},
   "outputs": [
    {
     "data": {
      "text/plain": [
       "(3, 2)"
      ]
     },
     "execution_count": 11,
     "metadata": {},
     "output_type": "execute_result"
    }
   ],
   "source": [
    "weights_hidden.shape"
   ]
  },
  {
   "cell_type": "code",
   "execution_count": 12,
   "metadata": {},
   "outputs": [
    {
     "data": {
      "text/plain": [
       "(3, 1)"
      ]
     },
     "execution_count": 12,
     "metadata": {},
     "output_type": "execute_result"
    }
   ],
   "source": [
    "weights_output.shape"
   ]
  },
  {
   "cell_type": "markdown",
   "metadata": {},
   "source": [
    "Feed-Forward Steps:\n",
    "- Inputs, add bias\n",
    "- Multiply by weight (np.dot)\n",
    "- Activate!"
   ]
  },
  {
   "cell_type": "code",
   "execution_count": 13,
   "metadata": {},
   "outputs": [],
   "source": [
    "weights = [weights_hidden, weights_output]"
   ]
  },
  {
   "cell_type": "code",
   "execution_count": 14,
   "metadata": {},
   "outputs": [],
   "source": [
    "def feed_forward(X, weights):\n",
    "\n",
    "    \"\"\"\n",
    "    1. Calculate the dot product of X\n",
    "       and the weights of the first layer.\n",
    "\n",
    "    2. Apply the sigmoid function on the result.\n",
    "\n",
    "    3. Append an extra column of ones to the result (i.e. the bias).\n",
    "\n",
    "    4. Calculate the dot product of the previous step\n",
    "       with the weights of the second (i.e. outer) layer.\n",
    "\n",
    "    5. Apply the sigmoid function on the result.\n",
    "\n",
    "    6. Return all intermediate results (i.e. anything that is outputted\n",
    "       by an activation function).\n",
    "    \"\"\"\n",
    "    \n",
    "    step1 = np.dot(X, weights[0]) #(50, 3) * (3, 2) -> (50, 2)\n",
    "    step2 = sigmoid(step1) #(50, 2) -> (50, 2)\n",
    "    step3 = np.hstack([step2, np.ones((step2.shape[0], 1))]) \n",
    "    #(50, 2) -> (50, 3)\n",
    "    step4 = np.dot(step3, weights[1]) #(50, 3) * (3, 1) -> (50, 1)\n",
    "    step5 = sigmoid(step4) #(50, 1) -> (50, 1)\n",
    "    \n",
    "    return (step2, step5)"
   ]
  },
  {
   "cell_type": "code",
   "execution_count": 15,
   "metadata": {},
   "outputs": [],
   "source": [
    "out1, out2 = feed_forward(X, weights)"
   ]
  },
  {
   "cell_type": "code",
   "execution_count": 16,
   "metadata": {},
   "outputs": [
    {
     "data": {
      "text/plain": [
       "array([[0.65285896],\n",
       "       [0.63912142],\n",
       "       [0.64686114],\n",
       "       [0.64821617],\n",
       "       [0.64936913],\n",
       "       [0.65359265],\n",
       "       [0.64495398],\n",
       "       [0.64602529],\n",
       "       [0.64214907],\n",
       "       [0.64504933],\n",
       "       [0.65342509],\n",
       "       [0.65184312],\n",
       "       [0.64375551],\n",
       "       [0.65362519],\n",
       "       [0.64717962],\n",
       "       [0.64898485],\n",
       "       [0.64112621],\n",
       "       [0.65140791],\n",
       "       [0.6512405 ],\n",
       "       [0.65154189],\n",
       "       [0.65193717],\n",
       "       [0.65425112],\n",
       "       [0.63780052],\n",
       "       [0.64027818],\n",
       "       [0.64396812],\n",
       "       [0.64373818],\n",
       "       [0.64419122],\n",
       "       [0.64630017],\n",
       "       [0.63952615],\n",
       "       [0.65182757],\n",
       "       [0.6491659 ],\n",
       "       [0.65494085],\n",
       "       [0.6423006 ],\n",
       "       [0.64635352],\n",
       "       [0.64482951],\n",
       "       [0.6484352 ],\n",
       "       [0.64400654],\n",
       "       [0.6398391 ],\n",
       "       [0.64042479],\n",
       "       [0.64046451],\n",
       "       [0.6566809 ],\n",
       "       [0.64602403],\n",
       "       [0.64836973],\n",
       "       [0.64996718],\n",
       "       [0.64671673],\n",
       "       [0.65095199],\n",
       "       [0.64657402],\n",
       "       [0.6522825 ],\n",
       "       [0.64261352],\n",
       "       [0.64527497]])"
      ]
     },
     "execution_count": 16,
     "metadata": {},
     "output_type": "execute_result"
    }
   ],
   "source": [
    "out2"
   ]
  },
  {
   "cell_type": "code",
   "execution_count": 17,
   "metadata": {},
   "outputs": [],
   "source": [
    "def log_loss(ytrue, ypred):    \n",
    "    loss =  -(ytrue*np.log(ypred)+(1-ytrue)*np.log(1-ypred))   \n",
    "    return loss"
   ]
  },
  {
   "cell_type": "code",
   "execution_count": 18,
   "metadata": {},
   "outputs": [],
   "source": [
    "ytrue = np.array([0.0, 0.0, 1.0, 1.0])\n",
    "ypred = np.array([0.01, 0.99, 0.01, 0.99])\n",
    "expected = np.array([0.01, 4.61, 4.61, 0.01])\n",
    "assert np.all(log_loss(ytrue, ypred).round(2) == expected)"
   ]
  },
  {
   "cell_type": "code",
   "execution_count": 19,
   "metadata": {},
   "outputs": [],
   "source": [
    "out1, out2 = feed_forward(X, weights)"
   ]
  },
  {
   "cell_type": "code",
   "execution_count": 20,
   "metadata": {},
   "outputs": [
    {
     "data": {
      "text/plain": [
       "array([0, 1, 1, 1, 0, 1, 1, 1, 1, 0, 0, 0, 1, 0, 0, 0, 1, 1, 1, 0, 0, 0,\n",
       "       0, 1, 1, 0, 1, 1, 1, 0, 1, 0, 1, 0, 0, 0, 1, 1, 0, 1, 0, 0, 0, 1,\n",
       "       0, 0, 1, 0, 1, 1], dtype=int64)"
      ]
     },
     "execution_count": 20,
     "metadata": {},
     "output_type": "execute_result"
    }
   ],
   "source": [
    "y"
   ]
  },
  {
   "cell_type": "code",
   "execution_count": 21,
   "metadata": {},
   "outputs": [],
   "source": [
    "ytrue = y.reshape(-1, 1)"
   ]
  },
  {
   "cell_type": "code",
   "execution_count": 22,
   "metadata": {
    "scrolled": true
   },
   "outputs": [
    {
     "data": {
      "text/plain": [
       "array([[0],\n",
       "       [1],\n",
       "       [1],\n",
       "       [1],\n",
       "       [0],\n",
       "       [1],\n",
       "       [1],\n",
       "       [1],\n",
       "       [1],\n",
       "       [0],\n",
       "       [0],\n",
       "       [0],\n",
       "       [1],\n",
       "       [0],\n",
       "       [0],\n",
       "       [0],\n",
       "       [1],\n",
       "       [1],\n",
       "       [1],\n",
       "       [0],\n",
       "       [0],\n",
       "       [0],\n",
       "       [0],\n",
       "       [1],\n",
       "       [1],\n",
       "       [0],\n",
       "       [1],\n",
       "       [1],\n",
       "       [1],\n",
       "       [0],\n",
       "       [1],\n",
       "       [0],\n",
       "       [1],\n",
       "       [0],\n",
       "       [0],\n",
       "       [0],\n",
       "       [1],\n",
       "       [1],\n",
       "       [0],\n",
       "       [1],\n",
       "       [0],\n",
       "       [0],\n",
       "       [0],\n",
       "       [1],\n",
       "       [0],\n",
       "       [0],\n",
       "       [1],\n",
       "       [0],\n",
       "       [1],\n",
       "       [1]], dtype=int64)"
      ]
     },
     "execution_count": 22,
     "metadata": {},
     "output_type": "execute_result"
    }
   ],
   "source": [
    "ytrue"
   ]
  },
  {
   "cell_type": "code",
   "execution_count": 23,
   "metadata": {
    "scrolled": true
   },
   "outputs": [
    {
     "data": {
      "text/plain": [
       "array([[1.05802413],\n",
       "       [0.44766083],\n",
       "       [0.43562363],\n",
       "       [0.43353104],\n",
       "       [1.04802125],\n",
       "       [0.42527098],\n",
       "       [0.43857631],\n",
       "       [0.43691662],\n",
       "       [0.44293481],\n",
       "       [1.03577645],\n",
       "       [1.05965628],\n",
       "       [1.0551021 ],\n",
       "       [0.44043627],\n",
       "       [1.06023382],\n",
       "       [1.04179618],\n",
       "       [1.0469259 ],\n",
       "       [0.44452895],\n",
       "       [0.42861924],\n",
       "       [0.42887628],\n",
       "       [1.05423725],\n",
       "       [1.05537227],\n",
       "       [1.06204255],\n",
       "       [1.01556017],\n",
       "       [0.44585254],\n",
       "       [0.44010606],\n",
       "       [1.03208938],\n",
       "       [0.43975966],\n",
       "       [0.43649123],\n",
       "       [0.44702777],\n",
       "       [1.05505744],\n",
       "       [0.43206697],\n",
       "       [1.06403942],\n",
       "       [0.44269885],\n",
       "       [1.03945752],\n",
       "       [1.03515734],\n",
       "       [1.04536122],\n",
       "       [0.4400464 ],\n",
       "       [0.44653854],\n",
       "       [1.02283192],\n",
       "       [0.44556156],\n",
       "       [1.06909495],\n",
       "       [1.03852626],\n",
       "       [1.04517501],\n",
       "       [0.43083341],\n",
       "       [1.04048509],\n",
       "       [1.0525458 ],\n",
       "       [0.4360676 ],\n",
       "       [1.05636492],\n",
       "       [0.44221179],\n",
       "       [0.43807875]])"
      ]
     },
     "execution_count": 23,
     "metadata": {},
     "output_type": "execute_result"
    }
   ],
   "source": [
    "log_loss(ytrue, out2) #which arrays do we need to compare?"
   ]
  },
  {
   "cell_type": "code",
   "execution_count": 24,
   "metadata": {},
   "outputs": [
    {
     "data": {
      "text/plain": [
       "[array([[0.32818011, 0.14440086],\n",
       "        [0.4427639 , 0.98873046],\n",
       "        [0.85840288, 0.42588194]]),\n",
       " array([[0.04414649],\n",
       "        [0.1885767 ],\n",
       "        [0.44680231]])]"
      ]
     },
     "execution_count": 24,
     "metadata": {},
     "output_type": "execute_result"
    }
   ],
   "source": [
    "weights"
   ]
  },
  {
   "cell_type": "code",
   "execution_count": 25,
   "metadata": {},
   "outputs": [],
   "source": [
    "wH = weights[0]\n",
    "wO = weights[1]"
   ]
  },
  {
   "cell_type": "code",
   "execution_count": 26,
   "metadata": {},
   "outputs": [
    {
     "data": {
      "text/plain": [
       "array([[0.32818011, 0.14440086],\n",
       "       [0.4427639 , 0.98873046],\n",
       "       [0.85840288, 0.42588194]])"
      ]
     },
     "execution_count": 26,
     "metadata": {},
     "output_type": "execute_result"
    }
   ],
   "source": [
    "wH"
   ]
  },
  {
   "cell_type": "code",
   "execution_count": 27,
   "metadata": {},
   "outputs": [
    {
     "data": {
      "text/plain": [
       "array([[0.04414649],\n",
       "       [0.1885767 ],\n",
       "       [0.44680231]])"
      ]
     },
     "execution_count": 27,
     "metadata": {},
     "output_type": "execute_result"
    }
   ],
   "source": [
    "wO"
   ]
  },
  {
   "cell_type": "code",
   "execution_count": 42,
   "metadata": {},
   "outputs": [],
   "source": [
    "def backprop(weights,output1,output2,ytrue,X_input, LR_O, LR_H):\n",
    "    #separate learning rates for outer and inner weights.\n",
    "    \n",
    "    wH = weights[0]\n",
    "    wO = weights[1]\n",
    "    \n",
    "    #STEP A:\n",
    "    ytrue = ytrue.reshape(-1, 1)\n",
    "    error = (output2 - ytrue) * log_loss(ytrue , output2)\n",
    "    \n",
    "    #STEP B:\n",
    "    sig_deriv = output2 * ( 1 - output2)\n",
    "    #derivative of the sigmoid function with respect to the hidden output * weights\n",
    "    y_grad = sig_deriv * error\n",
    "    \n",
    "    #STEP C:\n",
    "    hidden_out_with_bias = np.hstack([output1,np.ones((50 ,1))]) #don't forget the bias!\n",
    "    delta_wo = np.dot( -y_grad.transpose(), hidden_out_with_bias ) * LR_O\n",
    "    \n",
    "    #and finally, old weights + delta weights -> new weights!\n",
    "    wO_new = wO + delta_wo.transpose()\n",
    "    \n",
    "    #STEP D:\n",
    "    sig_deriv_1 = output1 * ( 1 - output1)\n",
    "    H_grad = sig_deriv_1  * np.dot(y_grad , wO[:2].transpose())\n",
    "    \n",
    "    #exclude the bias (3rd column) of the outer weights, since it is not backpropagated!\n",
    "    \n",
    "    #STEP E:\n",
    "    delta_wH = np.dot(-H_grad.transpose(), X) * LR_H\n",
    "    wH_new = wH + delta_wH.transpose()#old weights + delta weights -> new weights!\n",
    "    \n",
    "    return wH_new, wO_new"
   ]
  },
  {
   "cell_type": "code",
   "execution_count": 43,
   "metadata": {},
   "outputs": [
    {
     "name": "stdout",
     "output_type": "stream",
     "text": [
      "[[ 0.38311554  0.39672646]\n",
      " [ 0.35312592  0.6139055 ]\n",
      " [ 0.73553591 -0.08385773]] [[-0.17710501]\n",
      " [-0.03577044]\n",
      " [ 0.14884019]]\n"
     ]
    }
   ],
   "source": [
    "wH_new, wO_new = backprop(weights, out1, out2, y, X, 0.1, 5.0)\n",
    "new_weights = [wH_new, wO_new]\n",
    "print(new_weights[0], new_weights[1])"
   ]
  },
  {
   "cell_type": "code",
   "execution_count": null,
   "metadata": {},
   "outputs": [],
   "source": []
  },
  {
   "cell_type": "code",
   "execution_count": null,
   "metadata": {},
   "outputs": [],
   "source": []
  },
  {
   "cell_type": "code",
   "execution_count": null,
   "metadata": {},
   "outputs": [],
   "source": []
  }
 ],
 "metadata": {
  "kernelspec": {
   "display_name": "Python 3",
   "language": "python",
   "name": "python3"
  },
  "language_info": {
   "codemirror_mode": {
    "name": "ipython",
    "version": 3
   },
   "file_extension": ".py",
   "mimetype": "text/x-python",
   "name": "python",
   "nbconvert_exporter": "python",
   "pygments_lexer": "ipython3",
   "version": "3.7.7"
  }
 },
 "nbformat": 4,
 "nbformat_minor": 2
}
